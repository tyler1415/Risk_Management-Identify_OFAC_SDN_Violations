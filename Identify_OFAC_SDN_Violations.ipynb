{
 "cells": [
  {
   "cell_type": "markdown",
   "id": "5e1d5102-138a-4607-b07b-289174a771e2",
   "metadata": {},
   "source": [
    "Import Libraries"
   ]
  },
  {
   "cell_type": "code",
   "execution_count": 1,
   "id": "b2fa54b6-1d31-4d25-a527-5576eedd00a0",
   "metadata": {},
   "outputs": [],
   "source": [
    "import numpy as np\n",
    "import pandas as pd\n",
    "import scipy.stats as st\n",
    "import matplotlib.pyplot as plt\n",
    "\n",
    "#!pip install rapidfuzz\n",
    "from rapidfuzz import process, fuzz\n"
   ]
  },
  {
   "cell_type": "markdown",
   "id": "e979a387-38fe-4118-abc2-6172bf4ceceb",
   "metadata": {},
   "source": [
    "Import Data"
   ]
  },
  {
   "cell_type": "code",
   "execution_count": 2,
   "id": "cb248aae-9d66-4450-87b4-66d896611eac",
   "metadata": {},
   "outputs": [
    {
     "name": "stdout",
     "output_type": "stream",
     "text": [
      "Synthetic Bank Customer Data:\n",
      "           ID                             Name Customer Type  \\\n",
      "0  CUST00001  Rodriguez, Figueroa and Sanchez        Entity   \n",
      "1  CUST00002                        Doyle Ltd        Entity   \n",
      "2  CUST00003                   Kimberly Garza    Individual   \n",
      "3  CUST00004                     Brandon Hall    Individual   \n",
      "4  CUST00005                 Kristina Baldwin    Individual   \n",
      "\n",
      "  Organization (Country)  \n",
      "0                 Mexico  \n",
      "1          United States  \n",
      "2                Germany  \n",
      "3                 Mexico  \n",
      "4          United States  \n",
      "\n",
      "\n",
      "SDN List Data:\n",
      "     ID                       Name  Type Organization\n",
      "0   36     AEROCARIBBEAN AIRLINES  -0-          CUBA\n",
      "1  173  ANGLO-CARIBBEAN CO., LTD.  -0-          CUBA\n",
      "2  306     BANCO NACIONAL DE CUBA  -0-          CUBA\n",
      "3  424         BOUTIQUE LA MAISON  -0-          CUBA\n",
      "4  475               CASA DE CUBA  -0-          CUBA\n"
     ]
    }
   ],
   "source": [
    "# Synthetic Company Data\n",
    "df_company = pd.read_csv(r'Realistic_Synthetic_Bank_Customers.csv')\n",
    "print('Synthetic Bank Customer Data:\\n',df_company.head())\n",
    "\n",
    "print('\\n')\n",
    "\n",
    "# SDN List Data\n",
    "df_sdn = pd.read_csv('SDN_OFAC_Data.csv')\n",
    "print('SDN List Data:\\n',df_sdn.head())\n"
   ]
  },
  {
   "cell_type": "markdown",
   "id": "fef860a6-4a3a-4cc9-bea4-b526f74a2442",
   "metadata": {},
   "source": [
    "Obtain Summary Stats on Data"
   ]
  },
  {
   "cell_type": "code",
   "execution_count": 3,
   "id": "ee9abcd4-f403-458d-abb3-729803092cd6",
   "metadata": {},
   "outputs": [
    {
     "name": "stdout",
     "output_type": "stream",
     "text": [
      "Synthetic Bank Customer Data Statistics:\n",
      "                ID           Name Customer Type Organization (Country)\n",
      "count        1000           1000          1000                   1000\n",
      "unique       1000            997             2                      6\n",
      "top     CUST00001  Jessica Smith    Individual          United States\n",
      "freq            1              2           716                    406\n",
      "\n",
      "\n",
      "SDN List Data Statistics:\n",
      "            ID                Name   Type    Organization\n",
      "count   17563               17562  17562           17562\n",
      "unique  17563               17531      4             227\n",
      "top        36  AL-AQSA FOUNDATION   -0-   RUSSIA-EO14024\n",
      "freq        1                   4   8844            5735\n"
     ]
    }
   ],
   "source": [
    "# Synthetic Company Data\n",
    "print('Synthetic Bank Customer Data Statistics:\\n',df_company.describe())\n",
    "\n",
    "print('\\n')\n",
    "\n",
    "# SDN List Data\n",
    "print('SDN List Data Statistics:\\n',df_sdn.describe())\n"
   ]
  },
  {
   "cell_type": "markdown",
   "id": "803e3e77-f9cc-4b06-9307-2d13426e72ea",
   "metadata": {},
   "source": [
    "Identify and Remove Nulls"
   ]
  },
  {
   "cell_type": "code",
   "execution_count": 4,
   "id": "f168c610-e46b-44ec-a54c-268f237df2a4",
   "metadata": {},
   "outputs": [
    {
     "name": "stdout",
     "output_type": "stream",
     "text": [
      "Synthetic Bank Customer Data:\n",
      " ID                        0\n",
      "Name                      0\n",
      "Customer Type             0\n",
      "Organization (Country)    0\n",
      "dtype: int64\n",
      "\n",
      "\n",
      "SDN List Data:\n",
      " ID              0\n",
      "Name            1\n",
      "Type            1\n",
      "Organization    1\n",
      "dtype: int64\n",
      "\n",
      "\n",
      "      ID Name Type Organization\n",
      "17562  \u001a  NaN  NaN          NaN\n"
     ]
    }
   ],
   "source": [
    "# Synthetic Company Data\n",
    "print('Synthetic Bank Customer Data:\\n',df_company.isnull().sum())\n",
    "\n",
    "print('\\n')\n",
    "\n",
    "# SDN List Data\n",
    "print('SDN List Data:\\n',df_sdn.isnull().sum())\n",
    "\n",
    "print('\\n')\n",
    "\n",
    "# Identify null values\n",
    "null_values = df_sdn[df_sdn.isnull().any(axis=1)]\n",
    "print(null_values)\n",
    "\n",
    "# There is 1 instance of missing values. Removed null row since it is a data quality issue\n",
    "df_sdn = df_sdn.dropna()\n"
   ]
  },
  {
   "cell_type": "markdown",
   "id": "0d36c30d-2c06-414b-9a0e-b4682b4349e1",
   "metadata": {},
   "source": [
    "Preprocessing - Clean Names"
   ]
  },
  {
   "cell_type": "code",
   "execution_count": 5,
   "id": "3c14ac40-e388-46b5-81d6-8bdc24fd0d06",
   "metadata": {},
   "outputs": [
    {
     "name": "stdout",
     "output_type": "stream",
     "text": [
      "          ID                       Name        Type Organization  \\\n",
      "0         36     AEROCARIBBEAN AIRLINES        -0-          CUBA   \n",
      "1        173  ANGLO-CARIBBEAN CO., LTD.        -0-          CUBA   \n",
      "2        306     BANCO NACIONAL DE CUBA        -0-          CUBA   \n",
      "3        424         BOUTIQUE LA MAISON        -0-          CUBA   \n",
      "4        475               CASA DE CUBA        -0-          CUBA   \n",
      "...      ...                        ...         ...          ...   \n",
      "17557  54624        QUEENS RING LIMITED        -0-   SDGT] [IFSR   \n",
      "17558  54625        RADIX TRADE LIMITED        -0-   SDGT] [IFSR   \n",
      "17559  54626     STAR OILGLOBAL LIMITED        -0-   SDGT] [IFSR   \n",
      "17560  54627           MARMERTH LIMITED        -0-   SDGT] [IFSR   \n",
      "17561  54707  ALBANESE, Francesca Paola  individual  ICC-EO14203   \n",
      "\n",
      "                     Clean_Name  \n",
      "0        aerocaribbean airlines  \n",
      "1        anglo caribbean co ltd  \n",
      "2        banco nacional de cuba  \n",
      "3            boutique la maison  \n",
      "4                  casa de cuba  \n",
      "...                         ...  \n",
      "17557       queens ring limited  \n",
      "17558       radix trade limited  \n",
      "17559    star oilglobal limited  \n",
      "17560          marmerth limited  \n",
      "17561  albanese francesca paola  \n",
      "\n",
      "[17562 rows x 5 columns]\n"
     ]
    }
   ],
   "source": [
    "def normalize_name(name):\n",
    "    return (\n",
    "        str(name)\n",
    "        .lower()\n",
    "        .replace('.', '')\n",
    "        .replace(',', '')\n",
    "        .replace('-', ' ')\n",
    "        .replace('  ', ' ')\n",
    "        .strip()\n",
    "    )\n",
    "\n",
    "df_company['Clean_Name'] = df_company['Name'].apply(normalize_name)\n",
    "df_sdn['Clean_Name'] = df_sdn['Name'].apply(normalize_name)\n",
    "\n",
    "#Example\n",
    "print(df_sdn)\n"
   ]
  },
  {
   "cell_type": "markdown",
   "id": "ed076393-f950-4b4b-8b94-b9a2abcc4b24",
   "metadata": {},
   "source": [
    "Obtain data similar in both Datasets"
   ]
  },
  {
   "cell_type": "code",
   "execution_count": 6,
   "id": "9d972126-ba96-4480-b573-46da2e8281c2",
   "metadata": {},
   "outputs": [
    {
     "data": {
      "text/html": [
       "<div>\n",
       "<style scoped>\n",
       "    .dataframe tbody tr th:only-of-type {\n",
       "        vertical-align: middle;\n",
       "    }\n",
       "\n",
       "    .dataframe tbody tr th {\n",
       "        vertical-align: top;\n",
       "    }\n",
       "\n",
       "    .dataframe thead th {\n",
       "        text-align: right;\n",
       "    }\n",
       "</style>\n",
       "<table border=\"1\" class=\"dataframe\">\n",
       "  <thead>\n",
       "    <tr style=\"text-align: right;\">\n",
       "      <th></th>\n",
       "      <th>Bank_Name</th>\n",
       "      <th>OFAC_Name</th>\n",
       "      <th>Score</th>\n",
       "    </tr>\n",
       "  </thead>\n",
       "  <tbody>\n",
       "    <tr>\n",
       "      <th>0</th>\n",
       "      <td>Jim Newton</td>\n",
       "      <td>NEWTON ITM</td>\n",
       "      <td>90.0</td>\n",
       "    </tr>\n",
       "    <tr>\n",
       "      <th>1</th>\n",
       "      <td>Milan Ivanovic</td>\n",
       "      <td>IVANOVIC, Milan</td>\n",
       "      <td>100.0</td>\n",
       "    </tr>\n",
       "  </tbody>\n",
       "</table>\n",
       "</div>"
      ],
      "text/plain": [
       "        Bank_Name        OFAC_Name  Score\n",
       "0      Jim Newton       NEWTON ITM   90.0\n",
       "1  Milan Ivanovic  IVANOVIC, Milan  100.0"
      ]
     },
     "execution_count": 6,
     "metadata": {},
     "output_type": "execute_result"
    }
   ],
   "source": [
    "# Get raw similarity matrix\n",
    "scores = process.cdist(\n",
    "    df_company['Clean_Name'],\n",
    "    df_sdn['Clean_Name'],\n",
    "    scorer=fuzz.token_sort_ratio\n",
    ")\n",
    "\n",
    "# Filter by threshold and flatten results\n",
    "matches = []\n",
    "threshold = 90\n",
    "\n",
    "for i in range(scores.shape[0]): # Loop through each row \n",
    "    for j in range(scores.shape[1]): # Loop through each column \n",
    "        score = scores[i, j]\n",
    "        if score >= threshold:\n",
    "            matches.append({\n",
    "                'Bank_Name': df_company.iloc[i]['Name'],\n",
    "                'OFAC_Name': df_sdn.iloc[j]['Name'],\n",
    "                'Score': score\n",
    "            })\n",
    "\n",
    "# Return results with a threshold value of at least 90\n",
    "df_matches = pd.DataFrame(matches)\n",
    "df_matches"
   ]
  },
  {
   "cell_type": "markdown",
   "id": "8ef1f002-7d15-45fc-a76f-f2dffc362cae",
   "metadata": {},
   "source": [
    "Refer to the document \"Report\" to view the report for this notebook."
   ]
  }
 ],
 "metadata": {
  "kernelspec": {
   "display_name": "anaconda-panel-2023.05-py310",
   "language": "python",
   "name": "conda-env-anaconda-panel-2023.05-py310-py"
  },
  "language_info": {
   "codemirror_mode": {
    "name": "ipython",
    "version": 3
   },
   "file_extension": ".py",
   "mimetype": "text/x-python",
   "name": "python",
   "nbconvert_exporter": "python",
   "pygments_lexer": "ipython3",
   "version": "3.11.5"
  }
 },
 "nbformat": 4,
 "nbformat_minor": 5
}
